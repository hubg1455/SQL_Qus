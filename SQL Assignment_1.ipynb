{
 "cells": [
  {
   "cell_type": "markdown",
   "id": "14c1de22",
   "metadata": {},
   "source": [
    "Q-1. Write an SQL query to fetch “FIRST_NAME” from Worker table using the alias\n",
    "name as &lt;WORKER_NAME&gt;."
   ]
  },
  {
   "cell_type": "code",
   "execution_count": null,
   "id": "ad602e68",
   "metadata": {},
   "outputs": [],
   "source": [
    "select FIRST_NAME from Worker as WORKER_NAME;"
   ]
  },
  {
   "cell_type": "markdown",
   "id": "f5e7316a",
   "metadata": {},
   "source": [
    "Q-2. Write an SQL query to fetch unique values of DEPARTMENT from Worker table."
   ]
  },
  {
   "cell_type": "code",
   "execution_count": null,
   "id": "f14e4217",
   "metadata": {},
   "outputs": [],
   "source": [
    "SELECT DISTINCT DEPARTMENT from Worker"
   ]
  },
  {
   "cell_type": "markdown",
   "id": "b11b6f28",
   "metadata": {},
   "source": [
    "Q-3. Write an SQL query to show the last 5 record from a table."
   ]
  },
  {
   "cell_type": "code",
   "execution_count": null,
   "id": "7b13e47e",
   "metadata": {},
   "outputs": [],
   "source": [
    "SELECT * FROM table_name LIMIT 5"
   ]
  }
 ],
 "metadata": {
  "kernelspec": {
   "display_name": "Python 3 (ipykernel)",
   "language": "python",
   "name": "python3"
  },
  "language_info": {
   "codemirror_mode": {
    "name": "ipython",
    "version": 3
   },
   "file_extension": ".py",
   "mimetype": "text/x-python",
   "name": "python",
   "nbconvert_exporter": "python",
   "pygments_lexer": "ipython3",
   "version": "3.9.7"
  }
 },
 "nbformat": 4,
 "nbformat_minor": 5
}
