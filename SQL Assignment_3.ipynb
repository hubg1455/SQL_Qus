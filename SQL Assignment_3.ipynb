{
 "cells": [
  {
   "cell_type": "markdown",
   "id": "e849bec2",
   "metadata": {},
   "source": [
    "Q-1. Write an SQL query to print the FIRST_NAME from Worker table after removing\n",
    "white spaces from the right side."
   ]
  },
  {
   "cell_type": "code",
   "execution_count": null,
   "id": "d6492fbb",
   "metadata": {},
   "outputs": [],
   "source": [
    "select RTRIM(FIRST_NAME) from Worker"
   ]
  },
  {
   "cell_type": "markdown",
   "id": "7e67f758",
   "metadata": {},
   "source": [
    "Q-2. Write an SQL query that fetches the unique values of DEPARTMENT from Worker\n",
    "table and prints its length."
   ]
  },
  {
   "cell_type": "code",
   "execution_count": null,
   "id": "a905073f",
   "metadata": {},
   "outputs": [],
   "source": [
    "select distinct(DEPARTMENT) from Worker"
   ]
  },
  {
   "cell_type": "markdown",
   "id": "2570c911",
   "metadata": {},
   "source": [
    "Q-3. Write an SQL query to fetch nth max salaries from a table."
   ]
  },
  {
   "cell_type": "code",
   "execution_count": null,
   "id": "9b86558f",
   "metadata": {},
   "outputs": [],
   "source": [
    "select max(salary) from table order by salary desc limit n-1,1 "
   ]
  }
 ],
 "metadata": {
  "kernelspec": {
   "display_name": "Python 3 (ipykernel)",
   "language": "python",
   "name": "python3"
  },
  "language_info": {
   "codemirror_mode": {
    "name": "ipython",
    "version": 3
   },
   "file_extension": ".py",
   "mimetype": "text/x-python",
   "name": "python",
   "nbconvert_exporter": "python",
   "pygments_lexer": "ipython3",
   "version": "3.9.7"
  }
 },
 "nbformat": 4,
 "nbformat_minor": 5
}
