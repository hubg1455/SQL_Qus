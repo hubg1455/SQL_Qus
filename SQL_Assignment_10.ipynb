{
 "cells": [
  {
   "cell_type": "markdown",
   "id": "8554b225",
   "metadata": {},
   "source": [
    "Q-19. Write an SQL query to determine the 5th highest salary without using TOP or limit\n",
    "method."
   ]
  },
  {
   "cell_type": "code",
   "execution_count": null,
   "id": "2d78579c",
   "metadata": {},
   "outputs": [],
   "source": [
    "select min(salary) from (select distinct salary from table order by salary desc ) where rownum<=5;"
   ]
  },
  {
   "cell_type": "markdown",
   "id": "5221d175",
   "metadata": {},
   "source": [
    "Q-20. Write an SQL query to fetch the list of employees with the same salary."
   ]
  },
  {
   "cell_type": "code",
   "execution_count": null,
   "id": "0df93566",
   "metadata": {},
   "outputs": [],
   "source": [
    "select * from employees group by salary;"
   ]
  }
 ],
 "metadata": {
  "kernelspec": {
   "display_name": "Python 3 (ipykernel)",
   "language": "python",
   "name": "python3"
  },
  "language_info": {
   "codemirror_mode": {
    "name": "ipython",
    "version": 3
   },
   "file_extension": ".py",
   "mimetype": "text/x-python",
   "name": "python",
   "nbconvert_exporter": "python",
   "pygments_lexer": "ipython3",
   "version": "3.9.7"
  }
 },
 "nbformat": 4,
 "nbformat_minor": 5
}
