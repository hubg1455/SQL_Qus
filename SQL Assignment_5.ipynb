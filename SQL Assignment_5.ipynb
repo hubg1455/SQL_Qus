{
 "cells": [
  {
   "cell_type": "markdown",
   "id": "e25109bd",
   "metadata": {},
   "source": [
    "Q-1. Write an SQL query to print details of workers excluding first names, “Vipul” and\n",
    "“Satish” from Worker table."
   ]
  },
  {
   "cell_type": "code",
   "execution_count": null,
   "id": "e7dab877",
   "metadata": {},
   "outputs": [],
   "source": [
    "select * from Worker where FIRST_NAME not in(\"Vipul\",\"Satish\");"
   ]
  },
  {
   "cell_type": "markdown",
   "id": "ab985433",
   "metadata": {},
   "source": [
    "Q-2. Write an SQL query to print details of the Workers whose FIRST_NAME ends with\n",
    "‘h’ and contains six alphabets."
   ]
  },
  {
   "cell_type": "code",
   "execution_count": null,
   "id": "1310823c",
   "metadata": {},
   "outputs": [],
   "source": [
    "select * from Workers where FIRST_NAME like \"%h\" and length(FIRST_NAME)=6;"
   ]
  },
  {
   "cell_type": "markdown",
   "id": "da8fea84",
   "metadata": {},
   "source": [
    "Q-3. Write a query to validate Email of Employee."
   ]
  },
  {
   "cell_type": "code",
   "execution_count": null,
   "id": "983ac872",
   "metadata": {},
   "outputs": [],
   "source": [
    "select * from Employee where Email like '%@%.%';"
   ]
  }
 ],
 "metadata": {
  "kernelspec": {
   "display_name": "Python 3 (ipykernel)",
   "language": "python",
   "name": "python3"
  },
  "language_info": {
   "codemirror_mode": {
    "name": "ipython",
    "version": 3
   },
   "file_extension": ".py",
   "mimetype": "text/x-python",
   "name": "python",
   "nbconvert_exporter": "python",
   "pygments_lexer": "ipython3",
   "version": "3.9.7"
  }
 },
 "nbformat": 4,
 "nbformat_minor": 5
}
