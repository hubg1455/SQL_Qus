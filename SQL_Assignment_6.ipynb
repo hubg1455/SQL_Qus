{
 "cells": [
  {
   "cell_type": "markdown",
   "id": "c2349a9f",
   "metadata": {},
   "source": [
    "Q-1. Write an SQL query to print details of the Workers who have joined in Feb’2014."
   ]
  },
  {
   "cell_type": "code",
   "execution_count": null,
   "id": "04f5f390",
   "metadata": {},
   "outputs": [],
   "source": [
    "select * from Workers where joinDate like \"%Feb%2014\""
   ]
  },
  {
   "cell_type": "markdown",
   "id": "fbdbf916",
   "metadata": {},
   "source": [
    "Q-2. Write an SQL query to fetch duplicate records having matching data in some fields of\n",
    "a table."
   ]
  },
  {
   "cell_type": "code",
   "execution_count": null,
   "id": "9293d3a8",
   "metadata": {},
   "outputs": [],
   "source": [
    "select * from table where field1=field2"
   ]
  },
  {
   "cell_type": "markdown",
   "id": "d91f638e",
   "metadata": {},
   "source": [
    "Q-3. How to remove duplicate rows from Employees table."
   ]
  },
  {
   "cell_type": "code",
   "execution_count": null,
   "id": "3ce3fdf6",
   "metadata": {},
   "outputs": [],
   "source": [
    "select distinct * from Employees;"
   ]
  }
 ],
 "metadata": {
  "kernelspec": {
   "display_name": "Python 3 (ipykernel)",
   "language": "python",
   "name": "python3"
  },
  "language_info": {
   "codemirror_mode": {
    "name": "ipython",
    "version": 3
   },
   "file_extension": ".py",
   "mimetype": "text/x-python",
   "name": "python",
   "nbconvert_exporter": "python",
   "pygments_lexer": "ipython3",
   "version": "3.9.7"
  }
 },
 "nbformat": 4,
 "nbformat_minor": 5
}
