{
 "cells": [
  {
   "cell_type": "markdown",
   "id": "4fd95ba4",
   "metadata": {},
   "source": [
    "Q-1. Write an SQL query to print the first three characters of  FIRST_NAME from Worker\n",
    "table."
   ]
  },
  {
   "cell_type": "code",
   "execution_count": null,
   "id": "1081149a",
   "metadata": {},
   "outputs": [],
   "source": [
    "select substring(FIRST_NAME,1,3) as \"first 3 characters\" from Worker"
   ]
  },
  {
   "cell_type": "markdown",
   "id": "59d92147",
   "metadata": {},
   "source": [
    "Q-2. Write an SQL query to find the position of the alphabet (‘a’) in the first name\n",
    "column ‘Amitabh’ from Worker table."
   ]
  },
  {
   "cell_type": "code",
   "execution_count": null,
   "id": "b9ea61d1",
   "metadata": {},
   "outputs": [],
   "source": [
    "select position('a' in \"Amitabh\") from Worker"
   ]
  },
  {
   "cell_type": "markdown",
   "id": "e3fd8e57",
   "metadata": {},
   "source": [
    "Q-3. Write an SQL query to print the name of employees having the highest salary in each\n",
    "department."
   ]
  },
  {
   "cell_type": "code",
   "execution_count": null,
   "id": "962c0908",
   "metadata": {},
   "outputs": [],
   "source": [
    "select name,max(salary) from employees group by department_id"
   ]
  }
 ],
 "metadata": {
  "kernelspec": {
   "display_name": "Python 3 (ipykernel)",
   "language": "python",
   "name": "python3"
  },
  "language_info": {
   "codemirror_mode": {
    "name": "ipython",
    "version": 3
   },
   "file_extension": ".py",
   "mimetype": "text/x-python",
   "name": "python",
   "nbconvert_exporter": "python",
   "pygments_lexer": "ipython3",
   "version": "3.9.7"
  }
 },
 "nbformat": 4,
 "nbformat_minor": 5
}
