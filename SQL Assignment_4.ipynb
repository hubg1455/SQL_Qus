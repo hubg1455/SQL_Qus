{
 "cells": [
  {
   "cell_type": "markdown",
   "id": "2d0757ae",
   "metadata": {},
   "source": [
    "Q-1. Write an SQL query to print the FIRST_NAME from Worker table after replacing ‘a’\n",
    "with ‘A’."
   ]
  },
  {
   "cell_type": "code",
   "execution_count": null,
   "id": "f4a4ab19",
   "metadata": {},
   "outputs": [],
   "source": [
    "select replace(FIRST_NAME,'a','A') from Worker;"
   ]
  },
  {
   "cell_type": "markdown",
   "id": "34c0de09",
   "metadata": {},
   "source": [
    "Q-2. Write an SQL query to print all Worker details from the Worker table order by\n",
    "FIRST_NAME Ascending and DEPARTMENT Descending."
   ]
  },
  {
   "cell_type": "code",
   "execution_count": null,
   "id": "9f3e3b0f",
   "metadata": {},
   "outputs": [],
   "source": [
    "select * from Worker order by FIRST_NAME ASC,DEPARTMENT DSC;"
   ]
  },
  {
   "cell_type": "markdown",
   "id": "4ba786fa",
   "metadata": {},
   "source": [
    "Q-3. Write an SQL query to fetch the names of workers who earn the highest salary."
   ]
  },
  {
   "cell_type": "code",
   "execution_count": null,
   "id": "9869ba47",
   "metadata": {},
   "outputs": [],
   "source": [
    "select name from Worker order by salary asc limit 1;"
   ]
  }
 ],
 "metadata": {
  "kernelspec": {
   "display_name": "Python 3 (ipykernel)",
   "language": "python",
   "name": "python3"
  },
  "language_info": {
   "codemirror_mode": {
    "name": "ipython",
    "version": 3
   },
   "file_extension": ".py",
   "mimetype": "text/x-python",
   "name": "python",
   "nbconvert_exporter": "python",
   "pygments_lexer": "ipython3",
   "version": "3.9.7"
  }
 },
 "nbformat": 4,
 "nbformat_minor": 5
}
