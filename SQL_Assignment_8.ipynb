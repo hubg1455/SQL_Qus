{
 "cells": [
  {
   "cell_type": "markdown",
   "id": "56800294",
   "metadata": {},
   "source": [
    "Q-15. Write an SQL query to fetch intersecting records of two tables."
   ]
  },
  {
   "cell_type": "code",
   "execution_count": null,
   "id": "6e475835",
   "metadata": {},
   "outputs": [],
   "source": [
    "select * from table1 INTERSECT select * from table2"
   ]
  },
  {
   "cell_type": "markdown",
   "id": "9445328f",
   "metadata": {},
   "source": [
    "Q-16. Write an SQL query to show records from one table that another table does not\n",
    "have."
   ]
  },
  {
   "cell_type": "code",
   "execution_count": null,
   "id": "8214df9b",
   "metadata": {},
   "outputs": [],
   "source": [
    "select * from table1 where NOT EXISTS(select * from table2)"
   ]
  }
 ],
 "metadata": {
  "kernelspec": {
   "display_name": "Python 3 (ipykernel)",
   "language": "python",
   "name": "python3"
  },
  "language_info": {
   "codemirror_mode": {
    "name": "ipython",
    "version": 3
   },
   "file_extension": ".py",
   "mimetype": "text/x-python",
   "name": "python",
   "nbconvert_exporter": "python",
   "pygments_lexer": "ipython3",
   "version": "3.9.7"
  }
 },
 "nbformat": 4,
 "nbformat_minor": 5
}
