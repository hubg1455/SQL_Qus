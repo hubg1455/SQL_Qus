{
 "cells": [
  {
   "cell_type": "markdown",
   "id": "014a108a",
   "metadata": {},
   "source": [
    "Q-17. Write an SQL query to show the top n (say 10) records of a table."
   ]
  },
  {
   "cell_type": "code",
   "execution_count": null,
   "id": "0ed3202e",
   "metadata": {},
   "outputs": [],
   "source": [
    "select * from table limit 10;"
   ]
  },
  {
   "cell_type": "markdown",
   "id": "c383937d",
   "metadata": {},
   "source": [
    "Q-18. Write an SQL query to determine the nth (say n=5) highest salary from a table."
   ]
  },
  {
   "cell_type": "code",
   "execution_count": null,
   "id": "890a37cf",
   "metadata": {},
   "outputs": [],
   "source": [
    "select * from table order by salary desc limit 5;"
   ]
  }
 ],
 "metadata": {
  "kernelspec": {
   "display_name": "Python 3 (ipykernel)",
   "language": "python",
   "name": "python3"
  },
  "language_info": {
   "codemirror_mode": {
    "name": "ipython",
    "version": 3
   },
   "file_extension": ".py",
   "mimetype": "text/x-python",
   "name": "python",
   "nbconvert_exporter": "python",
   "pygments_lexer": "ipython3",
   "version": "3.9.7"
  }
 },
 "nbformat": 4,
 "nbformat_minor": 5
}
